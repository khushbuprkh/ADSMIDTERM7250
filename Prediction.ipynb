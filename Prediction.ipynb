{
 "cells": [
  {
   "cell_type": "code",
   "execution_count": 3,
   "metadata": {},
   "outputs": [
    {
     "name": "stderr",
     "output_type": "stream",
     "text": [
      "C:\\Users\\khushbu\\Anaconda2\\lib\\site-packages\\sklearn\\cross_validation.py:44: DeprecationWarning: This module was deprecated in version 0.18 in favor of the model_selection module into which all the refactored classes and functions are moved. Also note that the interface of the new CV iterators are different from that of this module. This module will be removed in 0.20.\n",
      "  \"This module will be removed in 0.20.\", DeprecationWarning)\n"
     ]
    }
   ],
   "source": [
    "# !pip install urllib\n",
    "import requests\n",
    "from bs4 import BeautifulSoup\n",
    "import re\n",
    "import os \n",
    "import time\n",
    "from io import BytesIO\n",
    "from zipfile import ZipFile\n",
    "import pandas as pd\n",
    "import glob\n",
    "import matplotlib.pyplot as plt\n",
    "import seaborn as sns\n",
    "import numpy as np\n",
    "import csv\n",
    "import math\n",
    "import h2o\n",
    "from sklearn import linear_model\n",
    "from sklearn.feature_selection import RFE\n",
    "from sklearn.linear_model import LogisticRegression\n",
    "from sklearn.metrics import r2_score\n",
    "from sklearn.metrics import mean_absolute_error\n",
    "from sklearn.metrics import mean_squared_error\n",
    "from sklearn.feature_selection import SelectKBest\n",
    "from sklearn.feature_selection import chi2\n",
    "from sklearn.feature_selection import f_regression \n",
    "from sklearn.svm import LinearSVC\n",
    "from sklearn.exceptions import NotFittedError\n",
    "from sklearn.svm import SVR\n",
    "from itertools import chain, combinations\n",
    "from sklearn.cross_validation import cross_val_score\n",
    "from mlxtend.feature_selection import SequentialFeatureSelector as SFS\n",
    "from sklearn.neighbors import KNeighborsRegressor\n",
    "from sklearn.ensemble import RandomForestRegressor\n",
    "from pybrain.tools.shortcuts import buildNetwork\n",
    "from pybrain.datasets import SupervisedDataSet\n",
    "from pybrain.supervised.trainers import BackpropTrainer\n",
    "from sklearn.preprocessing import MinMaxScaler"
   ]
  },
  {
   "cell_type": "code",
   "execution_count": 4,
   "metadata": {
    "collapsed": true
   },
   "outputs": [],
   "source": [
    "fileDir = os.path.dirname(os.path.realpath('__file__'))"
   ]
  },
  {
   "cell_type": "code",
   "execution_count": 5,
   "metadata": {},
   "outputs": [
    {
     "name": "stdout",
     "output_type": "stream",
     "text": [
      "C:\\Users\\khushbu\\Assignments\\Ads_MidTerm\n"
     ]
    }
   ],
   "source": [
    "print(fileDir)"
   ]
  },
  {
   "cell_type": "code",
   "execution_count": 6,
   "metadata": {
    "collapsed": true
   },
   "outputs": [],
   "source": [
    "baseUrl='https://freddiemac.embs.com/FLoan/'\n",
    "postUrl='Data/download.php'"
   ]
  },
  {
   "cell_type": "code",
   "execution_count": 7,
   "metadata": {
    "collapsed": true
   },
   "outputs": [],
   "source": [
    "def createCredentialData(user, passwd):\n",
    "    creds={'username': user,'password': passwd}\n",
    "    return creds"
   ]
  },
  {
   "cell_type": "code",
   "execution_count": 8,
   "metadata": {
    "collapsed": true
   },
   "outputs": [],
   "source": [
    "def getFilesFromFreddieMac(cred,quater,year,quaterTwo,yearTwo):\n",
    "    c=cred\n",
    "    ## We are using inside WITH BLock so that session is closed ASAP with BLock is exited \n",
    "    with requests.Session() as s:\n",
    "        ## Step 1 routing to auth.php Site with the proper crentials \n",
    "        urlOne = s.post(baseUrl+\"secure/auth.php\", data=cred) \n",
    "        if \"Please log in\" in urlOne.text:\n",
    "        ## IF CREDENTIALS are not valid Throw Alert \n",
    "            print(\"Alert: Invalid Credentials, Please try again or sign up on below site \\n https://freddiemac.embs.com/FLoan/Bin/loginrequest.php\")\n",
    "        else:\n",
    "            print(\"Step1: Logged in\")\n",
    "        ## Sterp 2 Preparing the data for to Accept terms and Conditions \n",
    "            pay2={'accept': 'Yes','acceptSubmit':'Continue','action':'acceptTandC'}\n",
    "            finalUrl=s.post(baseUrl +\"Data/download.php\",pay2)\n",
    "            if \"Loan-Level Dataset\" in finalUrl.text:\n",
    "                      print(\"Step2 : Terms and Conditions Accepted\")\n",
    "                      soup = BeautifulSoup(finalUrl.content, \"html.parser\")   \n",
    "                      links_list = soup.findAll('a')\n",
    "                      print(\"Step3: Filtered the Sample Files with Condition =\" + year)\n",
    "                      print(\"Status::::::::::\")\n",
    "                      for ele in links_list:\n",
    "        ## Filtering the ZIp files = 2005 \n",
    "                         if 'historical' in ele.get_text():\n",
    "                            if(ele.get_text()[-8:-4] == year):\n",
    "                                    print(ele.get_text()[-8:-4])\n",
    "                                    if(ele.get_text()[-10:-8] == quater):\n",
    "                                        print(ele.get_text()[-10:-8])\n",
    "                                        \n",
    "                                        tempUrl = baseUrl+\"Data/\"+ele.get('href')                         \n",
    "                                        b =time.time()\n",
    "                                        downloadUrl=s.post(tempUrl) ## return type = Response\n",
    "                                        e=time.time()\n",
    "                                        print(tempUrl + \" took \"+ str(e-b)+\" sec\")\n",
    "                                        with ZipFile(BytesIO(downloadUrl.content)) as zfile:\n",
    "                                              zfile.extractall(os.path.join(fileDir, 'adsDataRepo/'+'Historical_data_'+ele.get_text()[-8:-4]+'/'))\n",
    "                                              print(\"File \"+ ele.get_text()+\" Downloaded\")\n",
    "                            \n",
    "                            if(ele.get_text()[-8:-4] == yearTwo):\n",
    "                                    print(ele.get_text()[-8:-4])\n",
    "                                    if(ele.get_text()[-10:-8] == quaterTwo):\n",
    "                                        print(ele.get_text()[-10:-8])\n",
    "                                        \n",
    "                                        tempUrl = baseUrl+\"Data/\"+ele.get('href')                         \n",
    "                                        b =time.time()\n",
    "                                        downloadUrl=s.post(tempUrl) ## return type = Response\n",
    "                                        e=time.time()\n",
    "                                        print(tempUrl + \" took \"+ str(e-b)+\" sec\")\n",
    "                                        with ZipFile(BytesIO(downloadUrl.content)) as zfile:\n",
    "                                              zfile.extractall(os.path.join(fileDir, 'adsDataRepo/'+'Historical_data_'+ele.get_text()[-8:-4]+'/'))\n",
    "                                              print(\"File \"+ ele.get_text()+\" Downloaded\")\n",
    "                                \n",
    "                                              \n",
    "    \n",
    "            else:\n",
    "                print(\"Alert: Please Check the rerouting action suffix\")\n",
    "        \n",
    "        ##To scrape the data from the Site finalUrl.       \n",
    "            "
   ]
  },
  {
   "cell_type": "code",
   "execution_count": 9,
   "metadata": {
    "collapsed": true
   },
   "outputs": [],
   "source": [
    "def preProcessData(inputQuater,inputYear,inputQuaterTwo,inputYearTwo):\n",
    "    cleandataOne= \"\"\n",
    "    cleandataTwo= \"\"\n",
    "    print(\"pre-process data\")\n",
    "    if(os.path.exists(fileDir+'/adsDataRepo/')):\n",
    "        trainingDataFile = glob.glob(fileDir+'/adsDataRepo/'+'Historical_data_'+inputYear+'/historical_data1_'+inputQuater+inputYear+'.txt')\n",
    "        testingDataFile = glob.glob(fileDir+'/adsDataRepo/'+'Historical_data_'+inputYearTwo+'/historical_data1_'+inputQuaterTwo+inputYearTwo+'.txt')\n",
    "        headerNames = ['CreditScore','FirstPaymentDate','FirstTimeHomeBuyerFlag','MaturityDate','MSA','MIP','NumberOfUnits',\n",
    "                         'OccupancyStatus','OCLTV','DTI','OriginalUPB','OLTV','OriginalInterestRate','Channel','PrepaymentPenaltyFlag',\n",
    "                         'ProductType','PropertyState','PropertyType','PostalCode','LoanSequenceNumber','LoanPurpose',\n",
    "                         'OriginalLoanTerm','NumberOfBorrowers','SellerName','ServicerName','SuperConformingFlag']\n",
    "        with open(trainingDataFile[0]) as f:\n",
    "            dataf = pd.read_table(f, sep='|', low_memory=False, header=None,lineterminator='\\n', names= headerNames)\n",
    "            cleandataOne = originationDatacleaning(dataf)\n",
    "            cleandataOne.to_csv(\"Origination_Clean_\"+inputQuater+inputYear+\".csv\",index=False)\n",
    "            print(\"training data cleaned, CSV Created\")\n",
    "       \n",
    "        with open(testingDataFile[0]) as f:\n",
    "            dataf = pd.read_table(f, sep='|', low_memory=False, header=None,lineterminator='\\n', names= headerNames)\n",
    "            cleandataTwo = originationDatacleaning(dataf)\n",
    "            cleandataTwo.to_csv(\"Origination_Clean_\"+inputQuaterTwo+inputYearTwo+\".csv\",index=False)\n",
    "            print(\"testing data cleaned, CSV Created\")\n",
    "\n",
    "    return cleandataOne,cleandataTwo"
   ]
  },
  {
   "cell_type": "code",
   "execution_count": 10,
   "metadata": {
    "collapsed": true
   },
   "outputs": [],
   "source": [
    "def originationDatacleaning(dataf):\n",
    "    dataf['CreditScore'].replace('   ',301,inplace=True)\n",
    "    dataf['CreditScore'].fillna(301,inplace=True)\n",
    "    dataf['FirstTimeHomeBuyerFlag'].fillna('X',inplace=True) \n",
    "    dataf['MSA'].replace('   ',0,inplace=True)\n",
    "    dataf['MSA'].fillna(0, inplace=True) \n",
    "    dataf['MIP'].replace('   ',0,inplace=True)\n",
    "    dataf['MIP'].fillna(0, inplace=True)\n",
    "    dataf['NumberOfUnits'].fillna(0,inplace=True)\n",
    "    dataf['OccupancyStatus'].fillna('X',inplace=True)\n",
    "    dataf['OCLTV'].replace('   ',0,inplace=True)\n",
    "    dataf['OCLTV'].fillna(0,inplace=True)\n",
    "    dataf['DTI'].replace('   ',0,inplace=True)\n",
    "    dataf['DTI'].fillna(0,inplace=True)\n",
    "    dataf['OriginalUPB'].replace('   ',0,inplace=True)\n",
    "    dataf['OriginalUPB'].fillna(0,inplace=True)\n",
    "    dataf['OLTV'].replace('   ',0,inplace=True)\n",
    "    dataf['OLTV'].fillna(0,inplace=True)\n",
    "    dataf['OriginalInterestRate'].fillna(0,inplace=True)\n",
    "    dataf['Channel'].fillna('X',inplace=True)\n",
    "    dataf['PrepaymentPenaltyFlag'].fillna('X',inplace=True)\n",
    "    dataf['ProductType'].fillna('XXXXX',inplace=True)\n",
    "    dataf['PropertyState'].fillna('XX',inplace=True)\n",
    "    dataf['PropertyType'].fillna('XX',inplace=True)\n",
    "    dataf['PostalCode'].fillna(0,inplace=True)\n",
    "    dataf['LoanSequenceNumber'].replace('', np.NaN).fillna(0,inplace=True)\n",
    "    dataf['LoanPurpose'].fillna('X',inplace=True)\n",
    "    dataf['OriginalLoanTerm'].replace('', np.NaN).fillna(0,inplace=True)\n",
    "    dataf['NumberOfBorrowers'].fillna('01',inplace=True)\n",
    "    dataf['SellerName'].fillna('X',inplace=True)\n",
    "    dataf['ServicerName'].fillna('X',inplace=True)\n",
    "    dataf['SuperConformingFlag'].fillna('X',inplace=True)\n",
    "    \n",
    "    #factorizing data \n",
    "    factorizeCategoricalColumn(dataf)\n",
    "    \n",
    "    #assingning datatype\n",
    "    dataf[['PropertyState','LoanSequenceNumber']]=dataf[['PropertyState','LoanSequenceNumber']].astype('str')\n",
    "    dataf[['FirstTimeHomeBuyerFlag','OccupancyStatus','Channel','PrepaymentPenaltyFlag','ProductType','PropertyType','CreditScore','LoanPurpose','SellerName','ServicerName','MSA','MIP','NumberOfUnits','DTI','OCLTV','OLTV','PostalCode','NumberOfBorrowers']]=dataf[['FirstTimeHomeBuyerFlag','OccupancyStatus','Channel','PrepaymentPenaltyFlag','ProductType','PropertyType','CreditScore','LoanPurpose','SellerName','ServicerName','MSA','MIP','NumberOfUnits','DTI','OCLTV','OLTV','PostalCode','NumberOfBorrowers']].astype('int64')\n",
    "    \n",
    "    #missinganalysis(dataf)\n",
    "    \n",
    "    return dataf\n",
    "    '''As we can see we have the below Null Values presnt in the Data for all the Years (Only varying the Counts )\n",
    "                       MSA           \n",
    "    FirstTimeHomeBuyerFlag           \n",
    "     PrepaymentPenaltyFlag          \n",
    "         NumberOfBorrowers \n",
    "    We can ignore''' "
   ]
  },
  {
   "cell_type": "code",
   "execution_count": 11,
   "metadata": {
    "collapsed": true
   },
   "outputs": [],
   "source": [
    "def selectFeatures(datadfTraining,datadfTesting):\n",
    "    label=datadfTraining.OriginalInterestRate\n",
    "    datadfTraining.drop('OriginalInterestRate',axis=1,inplace=True)\n",
    "    features=datadfTraining\n",
    "    labelTesting=datadfTesting.OriginalInterestRate\n",
    "    datadfTesting.drop('OriginalInterestRate',axis=1,inplace=True)\n",
    "    featuresTesting=datadfTesting\n",
    "    print(\"Linear Regression Feature Selection\") \n",
    "    linearRegressionModel(label,features)\n",
    "    print(\"Recursive Feature Elimination Feature Selection\")\n",
    "    recursiveFeatureElimination(label,features)\n",
    "    print(\"Select K Best Feature Selection\")\n",
    "    selectKBestFeatures(label,features)\n",
    "    #stepwiseFeatureSelection(label,features)\n",
    "    print(\"lasso LarsRegression Model Feature Selection\") \n",
    "    lassoLarsRegressionModel(label,features)\n",
    "    print(\"Reidge Regression Model Feature Selection\") \n",
    "    reidgeRegressionModel(label,features)"
   ]
  },
  {
   "cell_type": "code",
   "execution_count": 12,
   "metadata": {
    "collapsed": true
   },
   "outputs": [],
   "source": [
    "# linear regression model\n",
    "def linearRegressionModel(label,features):\n",
    "    model= linear_model.LinearRegression()\n",
    "    model.fit(features,label) \n",
    "    score=model.score(features,label) \n",
    "    pd.DataFrame(list(zip(features.columns,model.coef_)),columns=[\"features\",\"estimatedCoefficients\"])\n",
    "    print rank_to_dict(np.abs(model.coef_), features)\n",
    "    prediction=model.predict(features)\n",
    "    r2Score=r2_score(label,prediction)\n",
    "    print(r2Score)\n",
    "    return model"
   ]
  },
  {
   "cell_type": "code",
   "execution_count": 13,
   "metadata": {
    "collapsed": true
   },
   "outputs": [],
   "source": [
    "def recursiveFeatureElimination(label,features):\n",
    "    model= linear_model.LinearRegression()\n",
    "    rfe = RFE(model, n_features_to_select=4)\n",
    "    rfe = rfe.fit(features,label)\n",
    "    print sorted(zip(map(lambda features: round(features, 4), rfe.ranking_), features))\n",
    "    prediction=rfe.predict(features)\n",
    "    r2Score=r2_score(label,prediction)\n",
    "    print(r2Score)\n",
    "    return rfe"
   ]
  },
  {
   "cell_type": "code",
   "execution_count": 14,
   "metadata": {
    "collapsed": true
   },
   "outputs": [],
   "source": [
    "def selectKBestFeatures(label,feature):\n",
    "    model= linear_model.LinearRegression()\n",
    "    test = SelectKBest(f_regression,k='all') \n",
    "    test.fit(feature, label)\n",
    "    features = test.transform(feature)\n",
    "    model.fit(feature, label)\n",
    "    print rank_to_dict(np.abs(model.coef_), feature)\n",
    "    prediction=model.predict(feature)\n",
    "    r2Score=r2_score(label,prediction)\n",
    "    print(r2Score)\n",
    "    return model"
   ]
  },
  {
   "cell_type": "code",
   "execution_count": 15,
   "metadata": {
    "collapsed": true
   },
   "outputs": [],
   "source": [
    "def stepwiseFeatureSelection(label,features):\n",
    "    lr = linear_model.LinearRegression()\n",
    "    sfs = SFS(lr, \n",
    "              k_features=1\n",
    "              )\n",
    "    sfs = sfs.fit(features, label)\n",
    "    prediction=sfs.predict(features)\n",
    "    r2Score=r2_score(label,prediction)\n",
    "    print(r2Score)\n",
    "    return sfs\n"
   ]
  },
  {
   "cell_type": "code",
   "execution_count": 16,
   "metadata": {
    "collapsed": true
   },
   "outputs": [],
   "source": [
    "def lassoLarsRegressionModel(label,features):\n",
    "    clf = linear_model.LassoLars(alpha=0.01)\n",
    "    clf.fit(features,label)\n",
    "    print rank_to_dict(np.abs(clf.coef_), features)\n",
    "    prediction=clf.predict(features)\n",
    "    r2Score=r2_score(label,prediction)\n",
    "    print(r2Score)\n",
    "    return clf"
   ]
  },
  {
   "cell_type": "code",
   "execution_count": 17,
   "metadata": {
    "collapsed": true
   },
   "outputs": [],
   "source": [
    "def reidgeRegressionModel(label,features):\n",
    "    reg = linear_model.Ridge (alpha = .5)\n",
    "    reg.fit (features,label)\n",
    "    print rank_to_dict(np.abs(reg.coef_), features)\n",
    "    prediction=reg.predict(features)\n",
    "    r2Score=r2_score(label,prediction)\n",
    "    print(r2Score)\n",
    "    return reg"
   ]
  },
  {
   "cell_type": "code",
   "execution_count": 18,
   "metadata": {
    "collapsed": true
   },
   "outputs": [],
   "source": [
    "def rank_to_dict(ranks, names, order=1):\n",
    "    minmax = MinMaxScaler()\n",
    "    ranks = minmax.fit_transform(order*np.array([ranks]).T).T[0]\n",
    "    ranks = map(lambda x: round(x, 2), ranks)\n",
    "    return dict(zip(names, ranks ))"
   ]
  },
  {
   "cell_type": "code",
   "execution_count": 19,
   "metadata": {
    "collapsed": true
   },
   "outputs": [],
   "source": [
    "def computeMae(model_mae,y,x):\n",
    "    model= model_mae\n",
    "    pred=model.predict(x)\n",
    "    mae=mean_absolute_error(y,pred);\n",
    "    print(\"MAE:\"+str(mae))"
   ]
  },
  {
   "cell_type": "code",
   "execution_count": 20,
   "metadata": {
    "collapsed": true
   },
   "outputs": [],
   "source": [
    "def computeRMSE(model_rmse,y,x):\n",
    "    model= model_rmse\n",
    "    pred=model.predict(x)\n",
    "    rmse=math.sqrt(mean_squared_error(y,pred))\n",
    "    print(\"RMSE:\"+str(rmse))"
   ]
  },
  {
   "cell_type": "code",
   "execution_count": 21,
   "metadata": {
    "collapsed": true
   },
   "outputs": [],
   "source": [
    "def computeMape(model_mape,y,x):\n",
    "    model= model_mape\n",
    "    pred=model.predict(x)\n",
    "    mape=np.mean(np.abs((y - pred) / y)) * 100\n",
    "    print( \"MAPE:\"+str(mape))"
   ]
  },
  {
   "cell_type": "code",
   "execution_count": 22,
   "metadata": {
    "collapsed": true
   },
   "outputs": [],
   "source": [
    "def randomForestRegressionAlgorithm(datadfTraining,datadfTesting):\n",
    "    label=datadfTraining.OriginalInterestRate\n",
    "    datadfTraining.drop('OriginalInterestRate',axis=1,inplace=True)\n",
    "    features=datadfTraining\n",
    "    labelTesting=datadfTesting.OriginalInterestRate\n",
    "    datadfTesting.drop('OriginalInterestRate',axis=1,inplace=True)\n",
    "    featuresTesting=datadfTesting\n",
    "    print(\"Training Data\")\n",
    "    rForest=RandomForestRegressor(max_depth=8)\n",
    "    rForest.fit(features,label)\n",
    "    computeMae(rForest,label,features)\n",
    "    computeRMSE(rForest,label,features)\n",
    "    computeMape(rForest,label,features)\n",
    "    print(\"Testing Data\")\n",
    "    computeMae(rForest,labelTesting,featuresTesting)\n",
    "    computeRMSE(rForest,labelTesting,featuresTesting)\n",
    "    computeMape(rForest,labelTesting,featuresTesting)\n",
    "    plt.scatter(rForest.predict(features),rForest.predict(features)-label,c='r',s=40,alpha=0.5)\n",
    "    plt.scatter(rForest.predict(featuresTesting),rForest.predict(featuresTesting)-labelTesting,c=\"b\",s=40)\n",
    "    plt.hlines(y=0,xmin=2,xmax=10)\n",
    "    plt.title('Residual plot using training(blue) and test(green) data')\n",
    "    plt.ylabel('Residuals')\n",
    "    #plt.show()"
   ]
  },
  {
   "cell_type": "code",
   "execution_count": 23,
   "metadata": {
    "collapsed": true
   },
   "outputs": [],
   "source": [
    "def neuralNetworkAlgorithm(datadfTraining,datadfTesting):\n",
    "    print(\"Executing Neural Network algorithm\")\n",
    "    label=datadfTraining.OriginalInterestRate\n",
    "    label=label.reshape(-1,1)\n",
    "    datadfTraining.drop('OriginalInterestRate',axis=1,inplace=True)\n",
    "    features=datadfTraining\n",
    "    labelTesting=datadfTesting.OriginalInterestRate\n",
    "    labelTesting=labelTesting.reshape(-1,1)\n",
    "    datadfTesting.drop('OriginalInterestRate',axis=1,inplace=True)\n",
    "    featuresTesting=datadfTesting\n",
    "    \n",
    "    print(\"Training Data\")\n",
    "    hidden_size = 3\n",
    "    epochs = 2\n",
    "    input_size = features.shape[1]\n",
    "    target_size = label.shape[1]\n",
    "    ds = SupervisedDataSet( input_size, target_size )\n",
    "    ds.setField( 'input', features)\n",
    "    ds.setField( 'target', label)\n",
    "\n",
    "    net = buildNetwork( input_size, hidden_size, target_size, bias = True )\n",
    "    trainer = BackpropTrainer( net,ds )\n",
    "\n",
    "    print(\"Training for {} epochs...\".format( epochs ))\n",
    "\n",
    "    for i in range( epochs ):\n",
    "        mse = trainer.train()\n",
    "        rmse = math.sqrt( mse )\n",
    "    print(\"Training RMSE, epoch {}: {}\".format( i + 1, rmse ))\n",
    "\n",
    "\n",
    "    input_size = featuresTesting.shape[1]\n",
    "    target_size = labelTesting.shape[1]\n",
    "\n",
    "    ds = SupervisedDataSet( input_size, target_size )\n",
    "    ds.setField( 'input', featuresTesting)\n",
    "    ds.setField( 'target', labelTesting)\n",
    "\n",
    "    p = net.activateOnDataset( ds )\n",
    "\n",
    "    mse = mean_squared_error(labelTesting, p )\n",
    "    rmse =math.sqrt(mse)\n",
    "    print(\"Testing rmse:\"+str(rmse))"
   ]
  },
  {
   "cell_type": "code",
   "execution_count": 24,
   "metadata": {
    "collapsed": true
   },
   "outputs": [],
   "source": [
    "def h20Algorithm(inputQuater,inputYear,inputQuaterTwo,inputYearTwo):\n",
    "    h2o.init()\n",
    "    trainingData = h2o.import_file(\"Origination_Clean_\"+inputQuater+inputYear+\".csv\")\n",
    "    testingData = h2o.import_file(\"Origination_Clean_\"+inputQuaterTwo+inputYearTwo+\".csv\")\n",
    "    y = \"OriginalInterestRate\"\n",
    "    x = ['CreditScore','OriginalLoanTerm','OriginalUPB','DTI']\n",
    "    model = h2o.estimators.deeplearning.H2ODeepLearningEstimator()\n",
    "    model.train(x, y, trainingData)\n",
    "    p = model.predict(testingData)\n",
    "    #m.model_performance(testH2OData)\n",
    "    performance = model.model_performance(testingData)\n",
    "    mse = model.mse(performance)\n",
    "    rmse = model.rmse(performance)\n",
    "    mae = model.mae(performance)\n",
    "    #return (m.model_performance(testH2OData))\n",
    "    print(\"MSE :\"+ str(mse))\n",
    "    print(\"RMSE :\"+ str(rmse))\n",
    "    print(\"MAE :\"+ str(mae))"
   ]
  },
  {
   "cell_type": "code",
   "execution_count": 25,
   "metadata": {
    "collapsed": true
   },
   "outputs": [],
   "source": [
    "def KNNAlgorithm(datadfTraining,datadfTesting):\n",
    "    print(\"Executing KNN algorithm\")\n",
    "    label=datadfTraining.OriginalInterestRate\n",
    "    datadfTraining.drop('OriginalInterestRate',axis=1,inplace=True)\n",
    "    features=datadfTraining\n",
    "    labelTesting=datadfTesting.OriginalInterestRate\n",
    "    datadfTesting.drop('OriginalInterestRate',axis=1,inplace=True)\n",
    "    featuresTesting=datadfTesting\n",
    "    print(\"Training Data\")\n",
    "    kNeighbour = KNeighborsRegressor(n_neighbors=6)\n",
    "    kNeighbour.fit(features,label) \n",
    "    computeMae(kNeighbour,label,features)\n",
    "    computeRMSE(kNeighbour,label,features)\n",
    "    computeMape(kNeighbour,label,features)\n",
    "    print(\"Testing Data\")\n",
    "    computeMae(kNeighbour,labelTesting,featuresTesting)\n",
    "    computeRMSE(kNeighbour,labelTesting,featuresTesting)\n",
    "    computeMape(kNeighbour,labelTesting,featuresTesting)\n",
    "    plt.scatter(kNeighbour.predict(features),kNeighbour.predict(features)-label,c='r',s=40,alpha=0.5)\n",
    "    plt.scatter(kNeighbour.predict(featuresTesting),kNeighbour.predict(featuresTesting)-labelTesting,c=\"b\",s=40)\n",
    "    plt.hlines(y=0,xmin=2,xmax=10)\n",
    "    plt.title('Residual plot using training(blue) and test(green) data')\n",
    "    plt.ylabel('Residuals')\n",
    "    #plt.show()"
   ]
  },
  {
   "cell_type": "code",
   "execution_count": 32,
   "metadata": {
    "collapsed": true
   },
   "outputs": [],
   "source": [
    "def factorizeCategoricalColumn(cleanperfTrain):\n",
    "        print('_________________________________________________________')\n",
    "        print('Factorizing the Categorical Columns .....................')\n",
    "        print('_________________________________________________________')\n",
    "\n",
    "        cleanperfTrain['FirstTimeHomeBuyerFlag'] = pd.factorize(cleanperfTrain['FirstTimeHomeBuyerFlag'])[0]\n",
    "        cleanperfTrain['OccupancyStatus'] = pd.factorize(cleanperfTrain['OccupancyStatus'])[0]\n",
    "        cleanperfTrain['Channel'] = pd.factorize(cleanperfTrain['Channel'])[0]\n",
    "        cleanperfTrain['ProductType'] = pd.factorize(cleanperfTrain['ProductType'])[0]\n",
    "        cleanperfTrain['PropertyType'] = pd.factorize(cleanperfTrain['PropertyType'])[0]\n",
    "        cleanperfTrain['LoanPurpose'] = pd.factorize(cleanperfTrain['LoanPurpose'])[0]\n",
    "        cleanperfTrain['SellerName'] = pd.factorize(cleanperfTrain['SellerName'])[0]\n",
    "        cleanperfTrain['ServicerName'] = pd.factorize(cleanperfTrain['ServicerName'])[0]\n",
    "        cleanperfTrain['PrepaymentPenaltyFlag'] = pd.factorize(cleanperfTrain['PrepaymentPenaltyFlag'])[0]\n",
    "        \n",
    "        return cleanperfTrain"
   ]
  },
  {
   "cell_type": "code",
   "execution_count": 33,
   "metadata": {
    "collapsed": true
   },
   "outputs": [],
   "source": [
    "def dropColumns(file):\n",
    "    file.drop(\"FirstPaymentDate\",axis=1,inplace=True)\n",
    "    file.drop(\"MaturityDate\",axis=1,inplace=True)\n",
    "    file.drop(\"PostalCode\",axis=1,inplace=True)"
   ]
  },
  {
   "cell_type": "code",
   "execution_count": 90,
   "metadata": {
    "collapsed": true
   },
   "outputs": [],
   "source": [
    "def reducedColumnsAnalysis(datadf):\n",
    "    #datadf.drop('FirstTimeHomeBuyerFlag',axis=1,inplace=True)\n",
    "    #datadf.drop('DTI',axis=1,inplace=True)\n",
    "    #datadf.drop('OCLTV',axis=1,inplace=True)\n",
    "    #datadf.drop('NumberOfBorrowers',axis=1,inplace=True)\n",
    "    #datadf.drop('PropertyType',axis=1,inplace=True)\n",
    "    #datadf.drop('MSA',axis=1,inplace=True)\n",
    "    #datadf.drop('PrepaymentPenaltyFlag',axis=1,inplace=True)\n",
    "    #datadf.drop('OLTV',axis=1,inplace=True)\n",
    "    datadf.drop('OccupancyStatus',axis=1,inplace=True)\n",
    "    #datadf.drop('NumberOfUnits',axis=1,inplace=True)\n",
    "    #datadf.drop('ProductType',axis=1,inplace=True)\n",
    "    #datadf.drop('ServicerName',axis=1,inplace=True)\n",
    "    datadf.drop('SellerName',axis=1,inplace=True)\n",
    "    #datadf.drop('LoanPurpose',axis=1,inplace=True)\n",
    "    #datadf.drop('Channel',axis=1,inplace=True)\n",
    "    #datadf.drop('OriginalUPB',axis=1,inplace=True)\n",
    "    label_datadfTraining_reduced= datadf.OriginalInterestRate\n",
    "    datadf.drop('OriginalInterestRate',axis=1,inplace=True)\n",
    "    features_reduced=datadf\n",
    "    linearRegressionModel(label_datadfTraining_reduced,features_reduced)\n",
    "    "
   ]
  },
  {
   "cell_type": "code",
   "execution_count": 103,
   "metadata": {
    "collapsed": true
   },
   "outputs": [],
   "source": [
    "def LinearRegressionAnalysis(datadfTraining,datadfTesting):\n",
    "    label=datadfTraining.OriginalInterestRate\n",
    "    datadfTraining.drop('OriginalInterestRate',axis=1,inplace=True)\n",
    "    features=datadfTraining\n",
    "    labelTesting=datadfTesting.OriginalInterestRate\n",
    "    datadfTesting.drop('OriginalInterestRate',axis=1,inplace=True)\n",
    "    featuresTesting=datadfTesting    \n",
    "    m1=linearRegressionModel(label,features) \n",
    "    print(\"Training Data\")\n",
    "    computeMae(m1,label,features)\n",
    "    computeRMSE(m1,label,features)\n",
    "    computeMape(m1,label,features)\n",
    "    print(\"Testing Data:\")\n",
    "    computeMae(m1,labelTesting,featuresTesting)\n",
    "    computeRMSE(m1,labelTesting,featuresTesting)\n",
    "    computeMape(m1,labelTesting,featuresTesting)\n",
    "    plt.scatter(m1.predict(features),m1.predict(features)-label,c='b',s=40,alpha=0.5)\n",
    "    plt.scatter(m1.predict(featuresTesting),m1.predict(featuresTesting)-labelTesting,c=\"r\",s=40)\n",
    "    plt.hlines(y=0,xmin=2,xmax=10)\n",
    "    plt.title('Residual plot using training(blue) and test(red) data')\n",
    "    plt.ylabel('Residuals')"
   ]
  },
  {
   "cell_type": "code",
   "execution_count": 105,
   "metadata": {
    "scrolled": false
   },
   "outputs": [
    {
     "name": "stdout",
     "output_type": "stream",
     "text": [
      "Enter QuaterQ1\n",
      "Enter year2005\n",
      "pre-process data\n",
      "_________________________________________________________\n",
      "Factorizing the Categorical Columns .....................\n",
      "_________________________________________________________\n",
      "training data cleaned, CSV Created\n",
      "_________________________________________________________\n",
      "Factorizing the Categorical Columns .....................\n",
      "_________________________________________________________\n",
      "testing data cleaned, CSV Created\n",
      "Linear Regression Feature Selection\n",
      "{'FirstTimeHomeBuyerFlag': 0.19, 'DTI': 0.0, 'OriginalUPB': 0.0, 'ServicerName': 0.02, 'SellerName': 0.02, 'OCLTV': 0.01, 'NumberOfBorrowers': 0.18, 'OccupancyStatus': 1.0, 'PropertyType': 0.12, 'CreditScore': 0.01, 'LoanPurpose': 0.28, 'NumberOfUnits': 0.32, 'Channel': 0.53, 'ProductType': 0.0, 'OLTV': 0.0, 'MIP': 0.03, 'OriginalLoanTerm': 0.02, 'MSA': 0.0, 'PrepaymentPenaltyFlag': 0.88}\n",
      "0.388428757513\n",
      "Recursive Feature Elimination Feature Selection\n",
      "[(1.0, 'NumberOfBorrowers'), (1.0, 'OccupancyStatus'), (1.0, 'PrepaymentPenaltyFlag'), (1.0, 'PropertyType'), (2.0, 'Channel'), (3.0, 'NumberOfUnits'), (4.0, 'MIP'), (5.0, 'LoanPurpose'), (6.0, 'FirstTimeHomeBuyerFlag'), (7.0, 'SellerName'), (8.0, 'OriginalLoanTerm'), (9.0, 'ServicerName'), (10.0, 'DTI'), (11.0, 'CreditScore'), (12.0, 'OCLTV'), (13.0, 'OLTV'), (14.0, 'OriginalUPB'), (15.0, 'MSA'), (16.0, 'ProductType')]\n",
      "0.040889578705\n",
      "Select K Best Feature Selection\n",
      "{'FirstTimeHomeBuyerFlag': 0.19, 'DTI': 0.0, 'OriginalUPB': 0.0, 'ServicerName': 0.02, 'SellerName': 0.02, 'OCLTV': 0.01, 'NumberOfBorrowers': 0.18, 'OccupancyStatus': 1.0, 'PropertyType': 0.12, 'CreditScore': 0.01, 'LoanPurpose': 0.28, 'NumberOfUnits': 0.32, 'Channel': 0.53, 'ProductType': 0.0, 'OLTV': 0.0, 'MIP': 0.03, 'OriginalLoanTerm': 0.02, 'MSA': 0.0, 'PrepaymentPenaltyFlag': 0.88}\n",
      "0.388428757513\n",
      "lasso LarsRegression Model Feature Selection\n",
      "{'FirstTimeHomeBuyerFlag': 0.0, 'DTI': 0.0, 'OriginalUPB': 0.0, 'ServicerName': 0.0, 'SellerName': 0.0, 'OCLTV': 0.0, 'NumberOfBorrowers': 0.0, 'OccupancyStatus': 0.0, 'PropertyType': 0.0, 'CreditScore': 0.0, 'LoanPurpose': 0.0, 'NumberOfUnits': 0.0, 'Channel': 0.0, 'ProductType': 0.0, 'OLTV': 0.0, 'MIP': 0.0, 'OriginalLoanTerm': 0.0, 'MSA': 0.0, 'PrepaymentPenaltyFlag': 0.0}\n",
      "0.0\n",
      "Reidge Regression Model Feature Selection\n",
      "{'FirstTimeHomeBuyerFlag': 0.19, 'DTI': 0.0, 'OriginalUPB': 0.0, 'ServicerName': 0.02, 'SellerName': 0.02, 'OCLTV': 0.01, 'NumberOfBorrowers': 0.18, 'OccupancyStatus': 1.0, 'PropertyType': 0.12, 'CreditScore': 0.01, 'LoanPurpose': 0.28, 'NumberOfUnits': 0.32, 'Channel': 0.53, 'ProductType': 0.0, 'OLTV': 0.0, 'MIP': 0.03, 'OriginalLoanTerm': 0.02, 'MSA': 0.0, 'PrepaymentPenaltyFlag': 0.88}\n",
      "0.388428757474\n",
      "{'FirstTimeHomeBuyerFlag': 0.17, 'DTI': 0.0, 'OriginalUPB': 0.0, 'SellerName': 0.02, 'OCLTV': 0.01, 'NumberOfBorrowers': 0.19, 'OccupancyStatus': 1.0, 'PropertyType': 0.12, 'CreditScore': 0.01, 'LoanPurpose': 0.28, 'NumberOfUnits': 0.31, 'Channel': 0.51, 'ProductType': 0.0, 'OLTV': 0.0, 'MIP': 0.03, 'OriginalLoanTerm': 0.02, 'MSA': 0.0, 'PrepaymentPenaltyFlag': 0.87}\n",
      "0.387860349019\n",
      "{'FirstTimeHomeBuyerFlag': 0.19, 'DTI': 0.0, 'OriginalUPB': 0.0, 'ServicerName': 0.02, 'SellerName': 0.02, 'OCLTV': 0.01, 'NumberOfBorrowers': 0.18, 'OccupancyStatus': 1.0, 'PropertyType': 0.12, 'CreditScore': 0.01, 'LoanPurpose': 0.28, 'NumberOfUnits': 0.32, 'Channel': 0.53, 'ProductType': 0.0, 'OLTV': 0.0, 'MIP': 0.03, 'OriginalLoanTerm': 0.02, 'MSA': 0.0, 'PrepaymentPenaltyFlag': 0.88}\n",
      "0.388428757513\n",
      "Training Data\n",
      "MAE:0.213138469923\n",
      "RMSE:0.287649173533\n",
      "MAPE:3.77166559029\n",
      "Testing Data:\n",
      "MAE:0.24834606033\n",
      "RMSE:0.32390384103\n",
      "MAPE:4.2350260436\n",
      "Executing KNN algorithm\n",
      "Training Data\n",
      "MAE:0.213643030296\n",
      "RMSE:0.282874916301\n",
      "MAPE:3.7940049615\n",
      "Testing Data\n",
      "MAE:0.271621926107\n",
      "RMSE:0.355365660743\n",
      "MAPE:4.63899897485\n"
     ]
    },
    {
     "data": {
      "image/png": "[encoded data removed]",
      "text/plain": [
       "<matplotlib.figure.Figure at 0x2163b780>"
      ]
     },
     "metadata": {},
     "output_type": "display_data"
    },
    {
     "name": "stdout",
     "output_type": "stream",
     "text": [
      "Training Data\n",
      "MAE:0.201749223251\n",
      "RMSE:0.273223146225\n",
      "MAPE:3.57058402688\n",
      "Testing Data\n",
      "MAE:0.245227552593\n",
      "RMSE:0.320189636659\n",
      "MAPE:4.19221236031\n"
     ]
    },
    {
     "data": {
      "image/png": "[encoded data removed]",
      "text/plain": [
       "<matplotlib.figure.Figure at 0x2a72c278>"
      ]
     },
     "metadata": {},
     "output_type": "display_data"
    },
    {
     "name": "stdout",
     "output_type": "stream",
     "text": [
      "Executing Neural Network algorithm\n"
     ]
    },
    {
     "name": "stderr",
     "output_type": "stream",
     "text": [
      "C:\\Users\\khushbu\\Anaconda2\\lib\\site-packages\\ipykernel_launcher.py:4: FutureWarning: reshape is deprecated and will raise in a subsequent release. Please use .values.reshape(...) instead\n",
      "  after removing the cwd from sys.path.\n",
      "C:\\Users\\khushbu\\Anaconda2\\lib\\site-packages\\ipykernel_launcher.py:8: FutureWarning: reshape is deprecated and will raise in a subsequent release. Please use .values.reshape(...) instead\n",
      "  \n"
     ]
    },
    {
     "name": "stdout",
     "output_type": "stream",
     "text": [
      "Training Data\n",
      "Training for 2 epochs...\n",
      "Training RMSE, epoch 2: 0.262767734451\n",
      "Testing rmse:0.363770704555\n",
      "Checking whether there is an H2O instance running at http://localhost:54321..... not found.\n",
      "Attempting to start a local H2O server...\n",
      "; Java HotSpot(TM) 64-Bit Server VM (build 25.131-b11, mixed mode)\n",
      "  Starting server from C:\\Users\\khushbu\\Anaconda2\\lib\\site-packages\\h2o\\backend\\bin\\h2o.jar\n",
      "  Ice root: c:\\users\\khushbu\\appdata\\local\\temp\\tmpnv2feg\n",
      "  JVM stdout: c:\\users\\khushbu\\appdata\\local\\temp\\tmpnv2feg\\h2o_khushbu_started_from_python.out\n",
      "  JVM stderr: c:\\users\\khushbu\\appdata\\local\\temp\\tmpnv2feg\\h2o_khushbu_started_from_python.err\n",
      "  Server is running at http://127.0.0.1:54321\n",
      "Connecting to H2O server at http://127.0.0.1:54321... successful.\n"
     ]
    },
    {
     "data": {
      "text/html": [
       "<div style=\"overflow:auto\"><table style=\"width:50%\"><tr><td>H2O cluster uptime:</td>\n",
       "<td>06 secs</td></tr>\n",
       "<tr><td>H2O cluster version:</td>\n",
       "<td>3.10.4.8</td></tr>\n",
       "<tr><td>H2O cluster version age:</td>\n",
       "<td>2 months </td></tr>\n",
       "<tr><td>H2O cluster name:</td>\n",
       "<td>H2O_from_python_khushbu_8pcyy7</td></tr>\n",
       "<tr><td>H2O cluster total nodes:</td>\n",
       "<td>1</td></tr>\n",
       "<tr><td>H2O cluster free memory:</td>\n",
       "<td>1.759 Gb</td></tr>\n",
       "<tr><td>H2O cluster total cores:</td>\n",
       "<td>4</td></tr>\n",
       "<tr><td>H2O cluster allowed cores:</td>\n",
       "<td>4</td></tr>\n",
       "<tr><td>H2O cluster status:</td>\n",
       "<td>accepting new members, healthy</td></tr>\n",
       "<tr><td>H2O connection url:</td>\n",
       "<td>http://127.0.0.1:54321</td></tr>\n",
       "<tr><td>H2O connection proxy:</td>\n",
       "<td>None</td></tr>\n",
       "<tr><td>H2O internal security:</td>\n",
       "<td>False</td></tr>\n",
       "<tr><td>Python version:</td>\n",
       "<td>2.7.13 final</td></tr></table></div>"
      ],
      "text/plain": [
       "--------------------------  ------------------------------\n",
       "H2O cluster uptime:         06 secs\n",
       "H2O cluster version:        3.10.4.8\n",
       "H2O cluster version age:    2 months\n",
       "H2O cluster name:           H2O_from_python_khushbu_8pcyy7\n",
       "H2O cluster total nodes:    1\n",
       "H2O cluster free memory:    1.759 Gb\n",
       "H2O cluster total cores:    4\n",
       "H2O cluster allowed cores:  4\n",
       "H2O cluster status:         accepting new members, healthy\n",
       "H2O connection url:         http://127.0.0.1:54321\n",
       "H2O connection proxy:\n",
       "H2O internal security:      False\n",
       "Python version:             2.7.13 final\n",
       "--------------------------  ------------------------------"
      ]
     },
     "metadata": {},
     "output_type": "display_data"
    },
    {
     "name": "stdout",
     "output_type": "stream",
     "text": [
      "Parse progress: |█████████████████████████████████████████████████████████| 100%\n",
      "Parse progress: |█████████████████████████████████████████████████████████| 100%\n",
      "deeplearning Model Build progress: |██████████████████████████████████████| 100%\n",
      "deeplearning prediction progress: |███████████████████████████████████████| 100%\n",
      "MSE :0.0883594390014\n",
      "RMSE :0.29725315642\n",
      "MAE :0.219430410094\n"
     ]
    }
   ],
   "source": [
    "def main():\n",
    "    creds=createCredentialData(\"parekh.kh@husky.neu.edu\",\"UkQqsHbV\")\n",
    "    inputQuater= raw_input('Enter Quater')\n",
    "    inputYear= raw_input('Enter year')\n",
    "    #getFilesFromFreddieMac(creds,inputQuater,inputYear)\n",
    "    if(int(inputQuater[1:2])<4):\n",
    "        temp = int(inputQuater[1:2])\n",
    "        temp += 1\n",
    "        t=str(temp)\n",
    "        newQuater=\"Q\"+t\n",
    "        inputQuaterTwo=newQuater\n",
    "        getFilesFromFreddieMac(creds,inputQuater,inputYear,inputQuaterTwo,inputYear)\n",
    "        files=preProcessData(inputQuater,inputYear,inputQuaterTwo,inputYear)\n",
    "        dropColumns(files[0])\n",
    "        dropColumns(files[1])\n",
    "        selectFeatures(files[0]._get_numeric_data(),files[1]._get_numeric_data())\n",
    "        reducedColumnsAnalysis(files[0]._get_numeric_data())\n",
    "        LinearRegressionAnalysis(files[0]._get_numeric_data(),files[1]._get_numeric_data())\n",
    "        KNNAlgorithm(files[0]._get_numeric_data(),files[1]._get_numeric_data())\n",
    "        randomForestRegressionAlgorithm(files[0]._get_numeric_data(),files[1]._get_numeric_data())\n",
    "        neuralNetworkAlgorithm(files[0]._get_numeric_data(),files[1]._get_numeric_data())\n",
    "        h20Algorithm(inputQuater,inputYear,inputQuaterTwo,inputYear)\n",
    "        \n",
    "    else:\n",
    "        year = int(inputYear)+1\n",
    "        inputYearTwo=str(year)\n",
    "        inputQuaterTwo=\"Q1\"\n",
    "        getFilesFromFreddieMac(creds,inputQuater,inputYear,inputQuaterTwo,inputYearTwo)\n",
    "        files=preProcessData(inputQuater,inputYear,inputQuaterTwo,inputYearTwo)\n",
    "        dropColumns(files[0])\n",
    "        dropColumns(files[1])\n",
    "        selectFeatures(files[0]._get_numeric_data(),files[1]._get_numeric_data())\n",
    "        LinearRegressionAnalysis(files[0]._get_numeric_data(),files[1]._get_numeric_data())\n",
    "        KNNAlgorithm(files[0]._get_numeric_data(),files[1]._get_numeric_data())\n",
    "        randomForestRegressionAlgorithm(files[0]._get_numeric_data(),files[1]._get_numeric_data())\n",
    "        neuralNetworkAlgorithm(files[0]._get_numeric_data(),files[1]._get_numeric_data())\n",
    "        h20Algorithm(inputQuater,inputYear,inputQuaterTwo,inputYearTwo)\n",
    "        \n",
    "    \n",
    "        \n",
    "if __name__ == '__main__':\n",
    "    main()        "
   ]
  },
  {
   "cell_type": "markdown",
   "metadata": {},
   "source": []
  },
  {
   "cell_type": "code",
   "execution_count": null,
   "metadata": {
    "collapsed": true
   },
   "outputs": [],
   "source": []
  },
  {
   "cell_type": "code",
   "execution_count": null,
   "metadata": {
    "collapsed": true
   },
   "outputs": [],
   "source": []
  }
 ],
 "metadata": {
  "kernelspec": {
   "display_name": "Python 2",
   "language": "python",
   "name": "python2"
  },
  "language_info": {
   "codemirror_mode": {
    "name": "ipython",
    "version": 2
   },
   "file_extension": ".py",
   "mimetype": "text/x-python",
   "name": "python",
   "nbconvert_exporter": "python",
   "pygments_lexer": "ipython2",
   "version": "2.7.13"
  }
 },
 "nbformat": 4,
 "nbformat_minor": 2
}
